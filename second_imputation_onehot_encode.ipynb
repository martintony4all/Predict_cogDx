{
 "cells": [
  {
   "cell_type": "code",
   "execution_count": null,
   "id": "2de28b0e-4945-4085-8dbe-0c91490c5e53",
   "metadata": {},
   "outputs": [],
   "source": [
    "import pandas as pd\n",
    "\n",
    "# Load dataset with automatic delimiter detection\n",
    "df = pd.read_csv(\"/Users/martinnwadiugwu/Downloads/RAC_data_imputed_new_new.csv\", sep=None, engine='python')\n",
    "df.columns = df.columns.str.strip()\n",
    "\n",
    "# Check for required ID column\n",
    "if 'ID' not in df.columns:\n",
    "    raise KeyError(\"⚠️ 'ID' column not found in the dataset.\")\n",
    "\n",
    "# Format ID and Age\n",
    "df['ID'] = df['ID'].astype(str)\n",
    "df['Age'] = df['Age'].replace('90+', '90').astype(float)\n",
    "\n",
    "# Identify PMI column\n",
    "pmi_col_candidates = [col for col in df.columns if col.startswith('PMI')]\n",
    "if not pmi_col_candidates:\n",
    "    raise KeyError(\"⚠️ PMI column not found. Check column names.\")\n",
    "pmi_col = pmi_col_candidates[0]\n",
    "\n",
    "# Define numeric columns for imputation\n",
    "numeric_cols = [pmi_col]\n",
    "df[numeric_cols] = df[numeric_cols].apply(pd.to_numeric, errors='coerce')\n",
    "df[numeric_cols] = df[numeric_cols].fillna(df[numeric_cols].median())\n",
    "\n",
    "# Define categorical columns to one-hot encode (exclude race_* which are already binary)\n",
    "categorical_cols = ['Gender', 'Diagnosis', 'structure', 'APOE_Status', 'Braak', 'Pathology', 'last_MMSE', 'Years_Education', 'Highest_Education_Level']\n",
    "categorical_cols = [col for col in categorical_cols if col in df.columns]\n",
    "\n",
    "# Apply one-hot encoding\n",
    "df_encoded = pd.get_dummies(df, columns=categorical_cols, drop_first=False)\n",
    "\n",
    "# Convert all boolean columns (if any) to integers\n",
    "bool_cols = df_encoded.select_dtypes(include='bool').columns\n",
    "df_encoded[bool_cols] = df_encoded[bool_cols].astype(int)\n",
    "\n",
    "# Save cleaned file as comma-separated CSV\n",
    "output_path = \"/Users/martinnwadiugwu/Downloads/RAC_data_onehot_new_new.csv\"\n",
    "df_encoded.to_csv(output_path, sep=\",\", index=False, encoding=\"utf-8\", quotechar='\"')\n",
    "\n",
    "print(f\"✅ Processing complete. Saved to: {output_path}\")\n"
   ]
  }
 ],
 "metadata": {
  "kernelspec": {
   "display_name": "Python 3 (ipykernel)",
   "language": "python",
   "name": "python3"
  },
  "language_info": {
   "codemirror_mode": {
    "name": "ipython",
    "version": 3
   },
   "file_extension": ".py",
   "mimetype": "text/x-python",
   "name": "python",
   "nbconvert_exporter": "python",
   "pygments_lexer": "ipython3",
   "version": "3.11.2"
  }
 },
 "nbformat": 4,
 "nbformat_minor": 5
}
